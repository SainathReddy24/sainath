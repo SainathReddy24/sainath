{
 "cells": [
  {
   "cell_type": "markdown",
   "id": "25dfd3d4-d847-4dce-b40a-95b130b1ab94",
   "metadata": {},
   "source": [
    "Assignment-1\n",
    "Write a program in Jupyter Notebook to declare variables of different data types (integer, float, string, and boolean). Print each variable and its type"
   ]
  },
  {
   "cell_type": "code",
   "execution_count": 3,
   "id": "cdc648c2-ab60-48d4-be0d-f9f80d8534ca",
   "metadata": {},
   "outputs": [
    {
     "name": "stdout",
     "output_type": "stream",
     "text": [
      "5 <class 'int'>\n",
      "3.14 <class 'float'>\n",
      "Hello <class 'str'>\n",
      "False <class 'bool'>\n"
     ]
    }
   ],
   "source": [
    "# Declare variables\n",
    "integer_x = 5          # Integer\n",
    "float_y = 3.14         # Float\n",
    "string_z = \"Hello\"     # String\n",
    "boolean_var = False      # Boolean\n",
    "\n",
    "# Print each variable and its type\n",
    "print(integer_x, type(integer_x))\n",
    "print(float_y, type(float_y))\n",
    "print(string_z, type(string_z))\n",
    "print(boolean_var, type(boolean_var))\n"
   ]
  },
  {
   "cell_type": "markdown",
   "id": "aef2dbcf-f278-49d0-b093-74ec04e03991",
   "metadata": {},
   "source": [
    "Assignment-2\n",
    "Create a List, tuple and Dictionary with 5 elements in it and how to access few elements based on the index. Try  with different examples "
   ]
  },
  {
   "cell_type": "code",
   "execution_count": 8,
   "id": "14db827a-26a8-4ac5-83ff-3ecd37447992",
   "metadata": {},
   "outputs": [
    {
     "name": "stdout",
     "output_type": "stream",
     "text": [
      "10\n",
      "50\n",
      "[20, 30, 40]\n",
      "[10, 30, 50]\n",
      "10\n",
      "50\n",
      "(20, 30, 40)\n",
      "(10, 30, 50)\n",
      "1\n",
      "5\n",
      "{'a': 1, 'c': 3, 'e': 5}\n",
      "{'a': 1, 'c': 3, 'e': 5}\n"
     ]
    }
   ],
   "source": [
    "# a list with 5 elements\n",
    "my_list = [10, 20, 30, 40, 50]\n",
    "\n",
    "# Access the first element (index 0)\n",
    "print(my_list[0])  # Output: 1\n",
    "\n",
    "# Access the last element (index -1)\n",
    "print(my_list[-1])  # Output: 5\n",
    "\n",
    "# Access a range of elements (index 1-3)\n",
    "print(my_list[1:4])  # Output: [2, 3, 4]\n",
    "\n",
    "# Access every other element (index 0, 2, 4)\n",
    "print(my_list[::2])  # Output: [1, 3, 5]\n",
    "\n",
    "# Create a tuple with 5 elements\n",
    "my_tuple = (10, 20, 30, 40, 50)\n",
    "\n",
    "# Access the first element (index 0)\n",
    "print(my_tuple[0])  # Output: 1\n",
    "\n",
    "# Access the last element (index -1)\n",
    "print(my_tuple[-1])  # Output: 5\n",
    "\n",
    "# Access a range of elements (index 1-3)\n",
    "print(my_tuple[1:4])  # Output: (2, 3, 4)\n",
    "\n",
    "# Access every other element (index 0, 2, 4)\n",
    "print(my_tuple[::2])  # Output: (1, 3, 5)\n",
    "\n",
    "# dictionary with 5 elements\n",
    "my_dict = {\"a\": 1, \"b\": 2, \"c\": 3, \"d\": 4, \"e\": 5}\n",
    "\n",
    "# Access the value of key \"a\"\n",
    "print(my_dict[\"a\"])  # Output: 1\n",
    "\n",
    "# Access the value of key \"e\"\n",
    "print(my_dict[\"e\"])  # Output: 5\n",
    "\n",
    "# Access a range of values (using dictionary comprehension)\n",
    "print({k: my_dict[k] for k in (\"a\", \"c\", \"e\")})  # Output: {\"a\": 1, \"c\": 3, \"e\": 5}\n",
    "\n",
    "# Access every other value\n",
    "print({k: v for i, (k, v) in enumerate(my_dict.items()) if i % 2 == 0})  # Output: {\"a\": 1, \"c\": 3, \"e\": 5}\n"
   ]
  },
  {
   "cell_type": "code",
   "execution_count": 7,
   "id": "b2275469-6859-4e10-abfa-0772b5b1cf31",
   "metadata": {},
   "outputs": [
    {
     "name": "stdout",
     "output_type": "stream",
     "text": [
      "List Elements:\n",
      "First element of list: 10\n",
      "Last element of list: 50\n",
      "Third element of list: 30\n",
      "\n",
      "Tuple Elements:\n",
      "First element of tuple: 100\n",
      "Second element of tuple: 200\n",
      "Last element of tuple: 500\n",
      "\n",
      "Dictionary Elements:\n",
      "Name from dictionary: John\n",
      "Age from dictionary: 30\n",
      "City from dictionary: New York\n"
     ]
    }
   ],
   "source": [
    "# Creating a List with 5 elements\n",
    "my_list = [10, 20, 30, 40, 50]\n",
    "\n",
    "# Creating a Tuple with 5 elements\n",
    "my_tuple = (100, 200, 300, 400, 500)\n",
    "\n",
    "# Creating a Dictionary with 5 key-value pairs\n",
    "my_dict = {\n",
    "    \"name\": \"John\",\n",
    "    \"age\": 30,\n",
    "    \"city\": \"New York\",\n",
    "    \"occupation\": \"Engineer\",\n",
    "    \"hobbies\": \"Reading\"\n",
    "}\n",
    "\n",
    "# Accessing elements based on index for List\n",
    "print(\"List Elements:\")\n",
    "print(\"First element of list:\", my_list[0])  # Accessing elements based on index for List (first element)\n",
    "print(\"Last element of list:\", my_list[-1])  # Accessing last element\n",
    "print(\"Third element of list:\", my_list[2])  # Accessing third element\n",
    "\n",
    "print(\"\\nTuple Elements:\")\n",
    "print(\"First element of tuple:\", my_tuple[0])  # Accessing based on index for Tuple(firstelement)\n",
    "print(\"Second element of tuple:\", my_tuple[1])  # Accessing second element\n",
    "print(\"Last element of tuple:\", my_tuple[-1])  # Accessing last element\n",
    "\n",
    "# Accessing values using keys for Dictionary\n",
    "print(\"\\nDictionary Elements:\")\n",
    "print(\"Name from dictionary:\", my_dict[\"name\"])  # Accessing value using key\n",
    "print(\"Age from dictionary:\", my_dict[\"age\"])  \n",
    "print(\"City from dictionary:\", my_dict[\"city\"]) \n"
   ]
  },
  {
   "cell_type": "markdown",
   "id": "6de31e4a-90cd-4c12-a20e-fc6efe1b0d28",
   "metadata": {},
   "source": [
    "Assigment-3\n",
    "Write a Python program that takes a student's marks in three subjects as input.\n",
    "\n",
    "If the average is greater than or equal to 90, print \"Grade: A\".\n",
    "\n",
    "If the average is between 80 and 89, print \"Grade: B\".\n",
    "\n",
    "If the average is between 70 and 79, print \"Grade: C\".\n",
    "\n",
    "Otherwise, print \"Grade: Fail\"."
   ]
  },
  {
   "cell_type": "code",
   "execution_count": 11,
   "id": "e546f479-2eb9-4fc9-84bf-0d62fb92a7ed",
   "metadata": {},
   "outputs": [
    {
     "name": "stdin",
     "output_type": "stream",
     "text": [
      "Enter marks for Subject A:  88\n",
      "Enter marks for Subject B:  85\n",
      "Enter marks for Subject C:  90\n"
     ]
    },
    {
     "name": "stdout",
     "output_type": "stream",
     "text": [
      "Grade: B\n"
     ]
    }
   ],
   "source": [
    "marksA = float(input(\"Enter marks for Subject A: \")) # Input\n",
    "marksB = float(input(\"Enter marks for Subject B: \"))\n",
    "marksC = float(input(\"Enter marks for Subject C: \"))\n",
    "\n",
    "average_marks = (marksA + marksB + marksC) / 3 # Calculating average\n",
    "\n",
    "if average_marks >= 90:\n",
    "    print(\"Grade: A\")\n",
    "elif 80 <= average_marks < 90:\n",
    "    print(\"Grade: B\")\n",
    "elif 70 <= average_marks < 80:\n",
    "    print(\"Grade: C\")\n",
    "else:\n",
    "    print(\"Grade: Fail\")\n"
   ]
  },
  {
   "cell_type": "markdown",
   "id": "21a5035c-1367-4cfa-8625-82ed678f675f",
   "metadata": {},
   "source": [
    "Assignment-4\n",
    "Write a Python program to calculate the sum of all even numbers between 1 and a given positive integer n"
   ]
  },
  {
   "cell_type": "code",
   "execution_count": null,
   "id": "1e44cb52-9ddd-404d-b837-5097679cd818",
   "metadata": {},
   "outputs": [],
   "source": []
  }
 ],
 "metadata": {
  "kernelspec": {
   "display_name": "Python 3 (ipykernel)",
   "language": "python",
   "name": "python3"
  },
  "language_info": {
   "codemirror_mode": {
    "name": "ipython",
    "version": 3
   },
   "file_extension": ".py",
   "mimetype": "text/x-python",
   "name": "python",
   "nbconvert_exporter": "python",
   "pygments_lexer": "ipython3",
   "version": "3.12.7"
  }
 },
 "nbformat": 4,
 "nbformat_minor": 5
}
