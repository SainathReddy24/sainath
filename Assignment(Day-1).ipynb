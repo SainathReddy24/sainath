{
 "cells": [
  {
   "cell_type": "markdown",
   "id": "5768a202-1aa4-45b4-8f6b-46e04765564d",
   "metadata": {},
   "source": [
    "Assignment-1 Write a program in Jupyter Notebook to declare variables of different data types (integer, float, string, and boolean). Print each variable and its type"
   ]
  },
  {
   "cell_type": "code",
   "execution_count": 1,
   "id": "c5250b6f-d5ec-4736-a4d8-360e0cf96caf",
   "metadata": {},
   "outputs": [
    {
     "name": "stdout",
     "output_type": "stream",
     "text": [
      "5 <class 'int'>\n",
      "3.14 <class 'float'>\n",
      "Hello <class 'str'>\n",
      "False <class 'bool'>\n"
     ]
    }
   ],
   "source": [
    "# Declare variables\n",
    "integer_x = 5          # Integer\n",
    "float_y = 3.14         # Float\n",
    "string_z = \"Hello\"     # String\n",
    "boolean_var = False      # Boolean\n",
    "\n",
    "# Print each variable and its type\n",
    "print(integer_x, type(integer_x))\n",
    "print(float_y, type(float_y))\n",
    "print(string_z, type(string_z))\n",
    "print(boolean_var, type(boolean_var))"
   ]
  },
  {
   "cell_type": "code",
   "execution_count": null,
   "id": "9c0d15fc-1a30-4ad3-82be-e5bc995d7af8",
   "metadata": {},
   "outputs": [],
   "source": []
  }
 ],
 "metadata": {
  "kernelspec": {
   "display_name": "Python 3 (ipykernel)",
   "language": "python",
   "name": "python3"
  },
  "language_info": {
   "codemirror_mode": {
    "name": "ipython",
    "version": 3
   },
   "file_extension": ".py",
   "mimetype": "text/x-python",
   "name": "python",
   "nbconvert_exporter": "python",
   "pygments_lexer": "ipython3",
   "version": "3.12.7"
  }
 },
 "nbformat": 4,
 "nbformat_minor": 5
}
