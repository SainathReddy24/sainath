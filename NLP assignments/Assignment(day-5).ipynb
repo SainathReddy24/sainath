{
 "cells": [
  {
   "cell_type": "markdown",
   "id": "010f0739-cc3c-4962-9a84-f8fcdf071835",
   "metadata": {},
   "source": [
    "Assignment 5: write a python program to calculate the frequency of each word in a given text. print the words and their corresponding counts."
   ]
  },
  {
   "cell_type": "code",
   "execution_count": 1,
   "id": "2a48b3d8-fefe-44e3-987b-9df34bbd2cf6",
   "metadata": {},
   "outputs": [
    {
     "name": "stdin",
     "output_type": "stream",
     "text": [
      "Enter the text:  life\n"
     ]
    },
    {
     "name": "stdout",
     "output_type": "stream",
     "text": [
      "'life': 1\n"
     ]
    }
   ],
   "source": [
    "from collections import Counter\n",
    "\n",
    "def word_frequency(text):\n",
    "    # Convert the text to lowercase and split it into words\n",
    "    words = text.lower().split()\n",
    "    \n",
    "    # Use Counter to count the frequency of each word\n",
    "    word_count = Counter(words)\n",
    "    \n",
    "    # Print the words and their corresponding counts\n",
    "    for word, count in word_count.items():\n",
    "        print(f\"'{word}': {count}\")\n",
    "\n",
    "# Input: get text from the user\n",
    "text = input(\"Enter the text: \")\n",
    "\n",
    "# Call the word_frequency function and print the result\n",
    "word_frequency(text)\n"
   ]
  },
  {
   "cell_type": "code",
   "execution_count": null,
   "id": "5ec0a0d7-1f60-479b-9e15-a654751df548",
   "metadata": {},
   "outputs": [],
   "source": []
  }
 ],
 "metadata": {
  "kernelspec": {
   "display_name": "Python 3 (ipykernel)",
   "language": "python",
   "name": "python3"
  },
  "language_info": {
   "codemirror_mode": {
    "name": "ipython",
    "version": 3
   },
   "file_extension": ".py",
   "mimetype": "text/x-python",
   "name": "python",
   "nbconvert_exporter": "python",
   "pygments_lexer": "ipython3",
   "version": "3.12.7"
  }
 },
 "nbformat": 4,
 "nbformat_minor": 5
}
