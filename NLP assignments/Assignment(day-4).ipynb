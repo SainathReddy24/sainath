{
 "cells": [
  {
   "cell_type": "markdown",
   "id": "7a014e53-516c-4b9a-b9d2-5445810dfae8",
   "metadata": {},
   "source": [
    "Assignment-4 Write a Python program to calculate the sum of all even numbers between 1 and a given positive integer n\n"
   ]
  },
  {
   "cell_type": "code",
   "execution_count": 1,
   "id": "ce2f2e0a-3378-4ee9-9e9c-40eec0c83efc",
   "metadata": {},
   "outputs": [
    {
     "name": "stdin",
     "output_type": "stream",
     "text": [
      "Enter a positive integer:  65\n"
     ]
    },
    {
     "name": "stdout",
     "output_type": "stream",
     "text": [
      "The sum of all even numbers between 1 and 65 is: 1056\n"
     ]
    }
   ],
   "source": [
    "def sum_of_evens(n):\n",
    "    # Initialize sum to 0\n",
    "    sum_even = 0\n",
    "    \n",
    "    # Loop through numbers from 1 to n\n",
    "    for i in range(2, n + 1, 2):  # Start at 2 and increment by 2 (even numbers)\n",
    "        sum_even += i\n",
    "    \n",
    "    return sum_even\n",
    "\n",
    "# Input from the user\n",
    "n = int(input(\"Enter a positive integer: \"))\n",
    "\n",
    "# Check if the input is valid\n",
    "if n > 0:\n",
    "    result = sum_of_evens(n)\n",
    "    print(f\"The sum of all even numbers between 1 and {n} is: {result}\")\n",
    "else:\n",
    "    print(\"Please enter a positive integer.\")\n"
   ]
  },
  {
   "cell_type": "code",
   "execution_count": null,
   "id": "fcc9c868-f8c0-4801-a60f-18065686701b",
   "metadata": {},
   "outputs": [],
   "source": []
  }
 ],
 "metadata": {
  "kernelspec": {
   "display_name": "Python 3 (ipykernel)",
   "language": "python",
   "name": "python3"
  },
  "language_info": {
   "codemirror_mode": {
    "name": "ipython",
    "version": 3
   },
   "file_extension": ".py",
   "mimetype": "text/x-python",
   "name": "python",
   "nbconvert_exporter": "python",
   "pygments_lexer": "ipython3",
   "version": "3.12.7"
  }
 },
 "nbformat": 4,
 "nbformat_minor": 5
}
