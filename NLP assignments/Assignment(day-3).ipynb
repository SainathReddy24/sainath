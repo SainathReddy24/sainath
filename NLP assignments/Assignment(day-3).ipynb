{
 "cells": [
  {
   "cell_type": "markdown",
   "id": "ebc651f2-4472-41c4-a074-4bbb3fde9160",
   "metadata": {},
   "source": [
    "Assigment-3 Write a Python program that takes a student's marks in three subjects as input.\n",
    "\n",
    "If the average is greater than or equal to 90, print \"Grade: A\".\n",
    "\n",
    "If the average is between 80 and 89, print \"Grade: B\".\n",
    "\n",
    "If the average is between 70 and 79, print \"Grade: C\".\n",
    "\n",
    "Otherwise, print \"Grade: Fail\".\n"
   ]
  },
  {
   "cell_type": "code",
   "execution_count": 1,
   "id": "11dcf7cf-64f6-438a-9744-c55dadd8f622",
   "metadata": {},
   "outputs": [
    {
     "name": "stdin",
     "output_type": "stream",
     "text": [
      "Enter marks for Subject A:  78\n",
      "Enter marks for Subject B:  98\n",
      "Enter marks for Subject C:  88\n"
     ]
    },
    {
     "name": "stdout",
     "output_type": "stream",
     "text": [
      "Grade: B\n"
     ]
    }
   ],
   "source": [
    "marksA = float(input(\"Enter marks for Subject A: \")) # Input\n",
    "marksB = float(input(\"Enter marks for Subject B: \"))\n",
    "marksC = float(input(\"Enter marks for Subject C: \"))\n",
    "\n",
    "average_marks = (marksA + marksB + marksC) / 3 # Calculating average\n",
    "\n",
    "if average_marks >= 90:\n",
    "    print(\"Grade: A\")\n",
    "elif 80 <= average_marks < 90:\n",
    "    print(\"Grade: B\")\n",
    "elif 70 <= average_marks < 80:\n",
    "    print(\"Grade: C\")\n",
    "else:\n",
    "    print(\"Grade: Fail\")"
   ]
  },
  {
   "cell_type": "code",
   "execution_count": null,
   "id": "8d855498-5d86-422d-a7e2-ed6d4cc29f3c",
   "metadata": {},
   "outputs": [],
   "source": []
  }
 ],
 "metadata": {
  "kernelspec": {
   "display_name": "Python 3 (ipykernel)",
   "language": "python",
   "name": "python3"
  },
  "language_info": {
   "codemirror_mode": {
    "name": "ipython",
    "version": 3
   },
   "file_extension": ".py",
   "mimetype": "text/x-python",
   "name": "python",
   "nbconvert_exporter": "python",
   "pygments_lexer": "ipython3",
   "version": "3.12.7"
  }
 },
 "nbformat": 4,
 "nbformat_minor": 5
}
