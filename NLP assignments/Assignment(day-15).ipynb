{
 "cells": [
  {
   "cell_type": "markdown",
   "id": "1d660f65-4f88-4b97-a919-c678472b222b",
   "metadata": {},
   "source": [
    "Examples on Regular Expressions - Coding Assignment\n",
    "\n",
    "Assignment-15\n",
    "Write a Python function using regular expressions to extract all email addresses from a given string. Test it with the input: 'Contact us at support@example.com and sales@example.org.'\n"
   ]
  },
  {
   "cell_type": "code",
   "execution_count": 2,
   "id": "ac8c10cc-01c8-45e2-a746-f83665a7ae4e",
   "metadata": {},
   "outputs": [
    {
     "name": "stdout",
     "output_type": "stream",
     "text": [
      "Extracted Emails: ['support@example.com', 'sales@example.org']\n"
     ]
    }
   ],
   "source": [
    "import re\n",
    "\n",
    "def extract_emails(text):\n",
    "    # Regular expression pattern for extracting email addresses\n",
    "    email_pattern = r'[a-zA-Z0-9._%+-]+@[a-zA-Z0-9.-]+\\.[a-zA-Z]{2,}'\n",
    "    \n",
    "    # Find all email addresses using the regular expression\n",
    "    emails = re.findall(email_pattern, text)\n",
    "    \n",
    "    return emails\n",
    "\n",
    "# Test the function with the input\n",
    "input_text = 'Contact us at support@example.com and sales@example.org.'\n",
    "emails = extract_emails(input_text)\n",
    "print(\"Extracted Emails:\", emails)\n"
   ]
  },
  {
   "cell_type": "code",
   "execution_count": null,
   "id": "a68c53a6-b9f5-438e-b45f-a85cf17bbd47",
   "metadata": {},
   "outputs": [],
   "source": []
  }
 ],
 "metadata": {
  "kernelspec": {
   "display_name": "Python 3 (ipykernel)",
   "language": "python",
   "name": "python3"
  },
  "language_info": {
   "codemirror_mode": {
    "name": "ipython",
    "version": 3
   },
   "file_extension": ".py",
   "mimetype": "text/x-python",
   "name": "python",
   "nbconvert_exporter": "python",
   "pygments_lexer": "ipython3",
   "version": "3.12.7"
  }
 },
 "nbformat": 4,
 "nbformat_minor": 5
}
