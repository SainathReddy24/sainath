{
 "cells": [
  {
   "cell_type": "markdown",
   "id": "d389f0b4-a32e-4855-955f-bcac6b23cd9b",
   "metadata": {},
   "source": [
    "Assignment-2 Create a List, tuple and Dictionary with 5 elements in it and how to access few elements based on the index. Try with different examples "
   ]
  },
  {
   "cell_type": "code",
   "execution_count": 1,
   "id": "e3772cdd-f5d5-431a-9561-07cc62513ef7",
   "metadata": {},
   "outputs": [
    {
     "name": "stdout",
     "output_type": "stream",
     "text": [
      "10\n",
      "50\n",
      "[20, 30, 40]\n",
      "[10, 30, 50]\n",
      "10\n",
      "50\n",
      "(20, 30, 40)\n",
      "(10, 30, 50)\n",
      "1\n",
      "5\n",
      "{'a': 1, 'c': 3, 'e': 5}\n",
      "{'a': 1, 'c': 3, 'e': 5}\n"
     ]
    }
   ],
   "source": [
    "# a list with 5 elements\n",
    "my_list = [10, 20, 30, 40, 50]\n",
    "\n",
    "# Access the first element (index 0)\n",
    "print(my_list[0])  # Output: 1\n",
    "\n",
    "# Access the last element (index -1)\n",
    "print(my_list[-1])  # Output: 5\n",
    "\n",
    "# Access a range of elements (index 1-3)\n",
    "print(my_list[1:4])  # Output: [2, 3, 4]\n",
    "\n",
    "# Access every other element (index 0, 2, 4)\n",
    "print(my_list[::2])  # Output: [1, 3, 5]\n",
    "\n",
    "# Create a tuple with 5 elements\n",
    "my_tuple = (10, 20, 30, 40, 50)\n",
    "\n",
    "# Access the first element (index 0)\n",
    "print(my_tuple[0])  # Output: 1\n",
    "\n",
    "# Access the last element (index -1)\n",
    "print(my_tuple[-1])  # Output: 5\n",
    "\n",
    "# Access a range of elements (index 1-3)\n",
    "print(my_tuple[1:4])  # Output: (2, 3, 4)\n",
    "\n",
    "# Access every other element (index 0, 2, 4)\n",
    "print(my_tuple[::2])  # Output: (1, 3, 5)\n",
    "\n",
    "# dictionary with 5 elements\n",
    "my_dict = {\"a\": 1, \"b\": 2, \"c\": 3, \"d\": 4, \"e\": 5}\n",
    "\n",
    "# Access the value of key \"a\"\n",
    "print(my_dict[\"a\"])  # Output: 1\n",
    "\n",
    "# Access the value of key \"e\"\n",
    "print(my_dict[\"e\"])  # Output: 5\n",
    "\n",
    "# Access a range of values (using dictionary comprehension)\n",
    "print({k: my_dict[k] for k in (\"a\", \"c\", \"e\")})  # Output: {\"a\": 1, \"c\": 3, \"e\": 5}\n",
    "\n",
    "# Access every other value\n",
    "print({k: v for i, (k, v) in enumerate(my_dict.items()) if i % 2 == 0})  # Output: {\"a\": 1, \"c\": 3, \"e\": 5}\n"
   ]
  },
  {
   "cell_type": "code",
   "execution_count": 2,
   "id": "8bc65642-3966-4389-af76-3d33785dd552",
   "metadata": {},
   "outputs": [
    {
     "name": "stdout",
     "output_type": "stream",
     "text": [
      "List Elements:\n",
      "First element of list: 10\n",
      "Last element of list: 50\n",
      "Third element of list: 30\n",
      "\n",
      "Tuple Elements:\n",
      "First element of tuple: 100\n",
      "Second element of tuple: 200\n",
      "Last element of tuple: 500\n",
      "\n",
      "Dictionary Elements:\n",
      "Name from dictionary: John\n",
      "Age from dictionary: 30\n",
      "City from dictionary: New York\n"
     ]
    }
   ],
   "source": [
    "# Creating a List with 5 elements\n",
    "my_list = [10, 20, 30, 40, 50]\n",
    "\n",
    "# Creating a Tuple with 5 elements\n",
    "my_tuple = (100, 200, 300, 400, 500)\n",
    "\n",
    "# Creating a Dictionary with 5 key-value pairs\n",
    "my_dict = {\n",
    "    \"name\": \"John\",\n",
    "    \"age\": 30,\n",
    "    \"city\": \"New York\",\n",
    "    \"occupation\": \"Engineer\",\n",
    "    \"hobbies\": \"Reading\"\n",
    "}\n",
    "\n",
    "# Accessing elements based on index for List\n",
    "print(\"List Elements:\")\n",
    "print(\"First element of list:\", my_list[0])  # Accessing elements based on index for List (first element)\n",
    "print(\"Last element of list:\", my_list[-1])  # Accessing last element\n",
    "print(\"Third element of list:\", my_list[2])  # Accessing third element\n",
    "\n",
    "print(\"\\nTuple Elements:\")\n",
    "print(\"First element of tuple:\", my_tuple[0])  # Accessing based on index for Tuple(firstelement)\n",
    "print(\"Second element of tuple:\", my_tuple[1])  # Accessing second element\n",
    "print(\"Last element of tuple:\", my_tuple[-1])  # Accessing last element\n",
    "\n",
    "# Accessing values using keys for Dictionary\n",
    "print(\"\\nDictionary Elements:\")\n",
    "print(\"Name from dictionary:\", my_dict[\"name\"])  # Accessing value using key\n",
    "print(\"Age from dictionary:\", my_dict[\"age\"])  \n",
    "print(\"City from dictionary:\", my_dict[\"city\"]) \n"
   ]
  },
  {
   "cell_type": "code",
   "execution_count": null,
   "id": "d2840093-1260-4c53-93e1-c8916e96e369",
   "metadata": {},
   "outputs": [],
   "source": []
  }
 ],
 "metadata": {
  "kernelspec": {
   "display_name": "Python 3 (ipykernel)",
   "language": "python",
   "name": "python3"
  },
  "language_info": {
   "codemirror_mode": {
    "name": "ipython",
    "version": 3
   },
   "file_extension": ".py",
   "mimetype": "text/x-python",
   "name": "python",
   "nbconvert_exporter": "python",
   "pygments_lexer": "ipython3",
   "version": "3.12.7"
  }
 },
 "nbformat": 4,
 "nbformat_minor": 5
}
